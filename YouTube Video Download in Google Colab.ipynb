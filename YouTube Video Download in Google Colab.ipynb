{
  "cells": [
    {
      "cell_type": "markdown",
      "metadata": {
        "id": "JxXAhxF2uEpI"
      },
      "source": [
        "# **To Clone the Repository**"
      ]
    },
    {
      "cell_type": "code",
      "execution_count": null,
      "metadata": {
        "colab": {
          "base_uri": "https://localhost:8080/"
        },
        "id": "8R85LTWNrZHn",
        "outputId": "3259d2e2-430b-40a9-dd6f-b07d13b60cd6"
      },
      "outputs": [],
      "source": [
        "# Replace with your repo's link\n",
        "!git clone https://github.com/nihalparakkottu/youtube-video-downloader.git\n",
        "\n"
      ]
    },
    {
      "cell_type": "markdown",
      "metadata": {
        "id": "bcVyYBo6u5sr"
      },
      "source": [
        "# **To Navigate to the GitHub Repo where the Python File Resides:**"
      ]
    },
    {
      "cell_type": "code",
      "execution_count": null,
      "metadata": {
        "colab": {
          "base_uri": "https://localhost:8080/"
        },
        "id": "7Lim03SareGQ",
        "outputId": "e934d233-f5f4-4ca2-c6cd-71c8ae1d7d33"
      },
      "outputs": [],
      "source": [
        "%cd youtube-video-downloader\n"
      ]
    },
    {
      "cell_type": "markdown",
      "metadata": {
        "id": "oPy83Tk_ucVq"
      },
      "source": [
        "# **To Run the Python script from GitHub Repo: TYPE THE YOUTUBE LINK HERE**"
      ]
    },
    {
      "cell_type": "code",
      "execution_count": null,
      "metadata": {
        "colab": {
          "base_uri": "https://localhost:8080/"
        },
        "id": "Cxg73rqIrhmG",
        "outputId": "8df97f5b-286f-4a45-8b94-bbe846f008a8"
      },
      "outputs": [],
      "source": [
        "!python youtube_downloader.py\n"
      ]
    },
    {
      "cell_type": "markdown",
      "metadata": {
        "id": "zvE7bcZpuuqQ"
      },
      "source": [
        "# **Download have been Completed, now to Download the File to your Computer**"
      ]
    },
    {
      "cell_type": "code",
      "execution_count": null,
      "metadata": {
        "colab": {
          "base_uri": "https://localhost:8080/",
          "height": 17
        },
        "id": "L9glQ1sFrjke",
        "outputId": "29185f47-8f33-4c07-bd09-ce8ced5ea780"
      },
      "outputs": [],
      "source": [
        "from google.colab import files\n",
        "import glob\n",
        "\n",
        "# Find the downloaded video file\n",
        "video_file = glob.glob(\"*.mp4\")[0]\n",
        "\n",
        "# Download it to your device\n",
        "files.download(video_file)\n"
      ]
    },
    {
      "cell_type": "code",
      "execution_count": null,
      "metadata": {
        "id": "BVWrFBezsJfb"
      },
      "outputs": [],
      "source": []
    }
  ],
  "metadata": {
    "colab": {
      "provenance": []
    },
    "kernelspec": {
      "display_name": "Python 3",
      "name": "python3"
    },
    "language_info": {
      "name": "python"
    }
  },
  "nbformat": 4,
  "nbformat_minor": 0
}
